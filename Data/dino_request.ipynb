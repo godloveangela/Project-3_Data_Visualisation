{
 "cells": [
  {
   "cell_type": "code",
   "execution_count": 6,
   "metadata": {},
   "outputs": [],
   "source": [
    "# Dependencies\n",
    "import requests\n",
    "import json"
   ]
  },
  {
   "cell_type": "code",
   "execution_count": 19,
   "metadata": {},
   "outputs": [],
   "source": [
    "# Parameters for API call to Paleo Bio Database\n",
    "# Year range in MYA ([M]illions of [Y]ears [A]go)\n",
    "maxMYA = \"251\"\n",
    "minMYA = \"66\"\n",
    "\n",
    "# Only select dinosaurs (Classes: \"Saurischia\" and \"Ornithischia\")\n",
    "dino_classes = \"Saurischia,Ornithischia\"\n",
    "\n",
    "# Note: stratext gives geological info about the rocks the fossil was found in/near\n",
    "output_options = [\"class\", \"coords\", \"paleoloc\"] #, \"stratext\"]\n",
    "options = ','.join(output_options)\n",
    "\n",
    "# Base URL for API call\n",
    "url = \"https://paleobiodb.org/data1.2/specs/list.json?datainfo&rowcount\"\n",
    "\n",
    "# Set TEST to False for full results instead of limiting to a preview of full data\n",
    "TEST = False\n",
    "result_limit = \"50\"\n",
    "if not TEST:\n",
    "    query_url = url + \"&base_name=\" + dino_classes + \"&max_ma=\" + maxMYA + \"&min_ma=\" + minMYA + \"&show=\" + options\n",
    "else:\n",
    "    query_url = url + \"&base_name=\" + dino_classes + \"&max_ma=\" + maxMYA + \"&min_ma=\" + minMYA + \"&show=\" + options + \"&limit=\" + result_limit\n",
    "\n",
    "# Make API call\n",
    "dino_response = requests.get(query_url)\n",
    "dino_json = dino_response.json()\n",
    "\n",
    "# Note: Only uncomment this if TEST = True otherwise will try to print a very large .json dict\n",
    "# print(json.dumps(dino_json, indent=4, sort_keys=True))"
   ]
  },
  {
   "cell_type": "code",
   "execution_count": 21,
   "metadata": {},
   "outputs": [],
   "source": [
    "with open('dino_data.json', 'w', encoding='utf-8') as f:\n",
    "    json.dump(dino_json, f, ensure_ascii=False)"
   ]
  }
 ],
 "metadata": {
  "kernelspec": {
   "display_name": "Python 3.7.13 ('bootcamp')",
   "language": "python",
   "name": "python3"
  },
  "language_info": {
   "codemirror_mode": {
    "name": "ipython",
    "version": 3
   },
   "file_extension": ".py",
   "mimetype": "text/x-python",
   "name": "python",
   "nbconvert_exporter": "python",
   "pygments_lexer": "ipython3",
   "version": "3.7.13"
  },
  "orig_nbformat": 4,
  "vscode": {
   "interpreter": {
    "hash": "b08fbafe6bae7878d52933ff325e12d973e1149faba7d07bc495019320ca8794"
   }
  }
 },
 "nbformat": 4,
 "nbformat_minor": 2
}
