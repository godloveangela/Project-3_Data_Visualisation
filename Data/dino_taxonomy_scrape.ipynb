{
 "cells": [
  {
   "cell_type": "code",
   "execution_count": 1,
   "metadata": {},
   "outputs": [],
   "source": [
    "from bs4 import BeautifulSoup as bs\n",
    "import requests\n",
    "import lxml\n",
    "import json\n",
    "\n",
    "import sqlite3\n",
    "import pandas as pd"
   ]
  },
  {
   "cell_type": "code",
   "execution_count": 2,
   "metadata": {},
   "outputs": [
    {
     "data": {
      "text/plain": [
       "[]"
      ]
     },
     "execution_count": 2,
     "metadata": {},
     "output_type": "execute_result"
    }
   ],
   "source": [
    "# Manually parse html into table_array because Beautiful Soup was only seeing first 70 rows of table, even in raw local html file\n",
    "line_number = 0\n",
    "table_array = [[]]\n",
    "\n",
    "with open(\"taxonomy_html.txt\", encoding='utf-8') as f:\n",
    "    for line in f:\n",
    "        # Strings needed to find <font> tags\n",
    "        start = '<font color=\"#595959\">'\n",
    "        end = \"</font>\"\n",
    "\n",
    "        # Parse only text inside <font> tags into table_array\n",
    "        if \"</font></td>\" in line or \"</font></b></td>\" in line or \"</font></i></td>\" in line:\n",
    "            line_text = line[line.find(start)+len(start):line.rfind(end)].strip(' \"')\n",
    "            table_array[line_number].append(line_text)\n",
    "        \n",
    "        # Remove last two entries from row, data not needed\n",
    "        if \"</tr>\" in line:\n",
    "            table_array[line_number].pop()\n",
    "            table_array[line_number].pop()\n",
    "            line_number += 1\n",
    "            table_array.append([])\n",
    "\n",
    "# Remove final added empty list []\n",
    "table_array.pop()\n"
   ]
  },
  {
   "cell_type": "code",
   "execution_count": 3,
   "metadata": {},
   "outputs": [],
   "source": [
    "# List of major dino groups we will be using\n",
    "major_groups = [\"Theropoda\", \"Sauropodomorpha\", \"Pachycephalosauria\", \"Stegosauria\", \"Ankylosauria\", \"Ceratopsia\", \"Ornithopoda\"]\n",
    "\n",
    "# Cleaned data array\n",
    "group_array = []\n",
    "\n",
    "# Loop through each entry and check if one of the major groups is present in the entry\n",
    "for row in table_array:\n",
    "    for item in row:\n",
    "        for group in major_groups:\n",
    "            if group in item:\n",
    "                # Clean Genus/Species names\n",
    "                sci_name = row[1].replace(\"&nbsp;\", \" \").replace(\"(1)\", \"\").replace(\"(2)\", \"\").replace(\"(3)\", \"\")\n",
    "                # Split the sci_name into Genus and Species if possible\n",
    "                sci_name_split = sci_name.split()\n",
    "\n",
    "                # Append the dinosaur's scientific name and its group to group_array, and ensure each entry in the array has 4 elements (leave species name blank if necessary)\n",
    "                # Entry format: [SCI_NAME, GENUS, SPECIES, GROUP]\n",
    "                if len(sci_name_split) == 1:\n",
    "                    group_array.append([sci_name, sci_name_split[0], \"\", group])\n",
    "                if len(sci_name_split) == 2:\n",
    "                    group_array.append([sci_name, sci_name_split[0], sci_name_split[1], group])"
   ]
  },
  {
   "cell_type": "code",
   "execution_count": 4,
   "metadata": {},
   "outputs": [],
   "source": [
    "with open('taxonomy_data.json', 'w', encoding='utf-8') as f:\n",
    "    json.dump(group_array, f, ensure_ascii=False)"
   ]
  }
 ],
 "metadata": {
  "kernelspec": {
   "display_name": "Python 3.7.13 ('bootcamp')",
   "language": "python",
   "name": "python3"
  },
  "language_info": {
   "codemirror_mode": {
    "name": "ipython",
    "version": 3
   },
   "file_extension": ".py",
   "mimetype": "text/x-python",
   "name": "python",
   "nbconvert_exporter": "python",
   "pygments_lexer": "ipython3",
   "version": "3.7.13"
  },
  "orig_nbformat": 4,
  "vscode": {
   "interpreter": {
    "hash": "8be448dbcd5e75f9a3fcf213a7aad20a68030d185d72d027436cde2e436881a5"
   }
  }
 },
 "nbformat": 4,
 "nbformat_minor": 2
}
